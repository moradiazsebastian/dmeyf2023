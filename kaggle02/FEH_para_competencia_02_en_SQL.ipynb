{
  "cells": [
    {
      "cell_type": "markdown",
      "metadata": {
        "id": "acmWu_ppjXWk"
      },
      "source": [
        "Colab para generar features (extraido de la ayudita que dio el profe Alejandro en Zullip)"
      ]
    },
    {
      "cell_type": "code",
      "execution_count": 39,
      "metadata": {
        "colab": {
          "background_save": true,
          "base_uri": "https://localhost:8080/"
        },
        "id": "hWTr8aJFjfIZ",
        "outputId": "c2a90a8d-7812-41aa-a2e7-137e9c006274"
      },
      "outputs": [
        {
          "name": "stdout",
          "output_type": "stream",
          "text": [
            "Couldn't find program: 'bash'\n"
          ]
        }
      ],
      "source": [
        "%%bash\n",
        "pip install --upgrade duckdb\n",
        "pip install --upgrade jupysql\n",
        "pip install --upgrade duckdb-engine"
      ]
    },
    {
      "cell_type": "markdown",
      "metadata": {
        "id": "7uTqyc17ja2o"
      },
      "source": [
        "\"A diferencia de la competencia 1, ahora vamos a usar una base de datos en disco. Todo va a ser más lento, pero se va a poder trabajar sin problemas en máquinas de menor capacidad. La DB va a queda en el archivo dmeyf.db, lo probé en un colab básico y funcionó sin problemas.\"\n"
      ]
    },
    {
      "cell_type": "code",
      "execution_count": 40,
      "metadata": {
        "id": "fMoW60ncjZhB"
      },
      "outputs": [
        {
          "name": "stdout",
          "output_type": "stream",
          "text": [
            "The sql extension is already loaded. To reload it, use:\n",
            "  %reload_ext sql\n"
          ]
        }
      ],
      "source": [
        "import duckdb\n",
        "import pandas as pd\n",
        "\n",
        "%load_ext sql\n",
        "%config SqlMagic.autopandas = True\n",
        "%config SqlMagic.feedback = False\n",
        "%config SqlMagic.displaycon = False\n",
        "%sql duckdb:////databases/dmeyf.db"
      ]
    },
    {
      "cell_type": "markdown",
      "metadata": {
        "id": "pJAN9mJjjia6"
      },
      "source": [
        "\"Cargamos el dataset, y como tenemos la base en el disco, no debemos cargarlo más, la próxima se puede usar directamente\""
      ]
    },
    {
      "cell_type": "code",
      "execution_count": 41,
      "metadata": {
        "colab": {
          "base_uri": "https://localhost:8080/",
          "height": 85,
          "referenced_widgets": [
            "4ac75dba850943ffa1e5a8d5a5981a96",
            "bbe59ed2f3544ab5bb0d5c0b1b7e9d94",
            "23ac0c9fb5f542c08d62259b19fd1b38"
          ]
        },
        "id": "9pYq2eJVjkrA",
        "outputId": "499f8b3a-a23e-4923-d7c6-4a57c246b8a6"
      },
      "outputs": [
        {
          "data": {
            "text/html": [
              "<div>\n",
              "<style scoped>\n",
              "    .dataframe tbody tr th:only-of-type {\n",
              "        vertical-align: middle;\n",
              "    }\n",
              "\n",
              "    .dataframe tbody tr th {\n",
              "        vertical-align: top;\n",
              "    }\n",
              "\n",
              "    .dataframe thead th {\n",
              "        text-align: right;\n",
              "    }\n",
              "</style>\n",
              "<table border=\"1\" class=\"dataframe\">\n",
              "  <thead>\n",
              "    <tr style=\"text-align: right;\">\n",
              "      <th></th>\n",
              "      <th>Success</th>\n",
              "    </tr>\n",
              "  </thead>\n",
              "  <tbody>\n",
              "  </tbody>\n",
              "</table>\n",
              "</div>"
            ],
            "text/plain": [
              "Empty DataFrame\n",
              "Columns: [Success]\n",
              "Index: []"
            ]
          },
          "execution_count": 41,
          "metadata": {},
          "output_type": "execute_result"
        }
      ],
      "source": [
        "%%sql\n",
        "create or replace table competencia_02 as\n",
        "select\n",
        "    *\n",
        "from read_csv_auto('C:/databases/datasets/competencia_02.csv.gz')\n"
      ]
    },
    {
      "cell_type": "markdown",
      "metadata": {
        "id": "HB_7XVPrGUEh"
      },
      "source": [
        "#Features históricas"
      ]
    },
    {
      "cell_type": "markdown",
      "metadata": {
        "id": "teUGt0a04NhR"
      },
      "source": [
        "Ver todos los campos"
      ]
    },
    {
      "cell_type": "code",
      "execution_count": 42,
      "metadata": {
        "colab": {
          "base_uri": "https://localhost:8080/",
          "height": 423
        },
        "id": "wNlxhSKT4NhR",
        "outputId": "7178dab2-acec-4336-e668-bd0b356e6778"
      },
      "outputs": [
        {
          "data": {
            "text/html": [
              "<div>\n",
              "<style scoped>\n",
              "    .dataframe tbody tr th:only-of-type {\n",
              "        vertical-align: middle;\n",
              "    }\n",
              "\n",
              "    .dataframe tbody tr th {\n",
              "        vertical-align: top;\n",
              "    }\n",
              "\n",
              "    .dataframe thead th {\n",
              "        text-align: right;\n",
              "    }\n",
              "</style>\n",
              "<table border=\"1\" class=\"dataframe\">\n",
              "  <thead>\n",
              "    <tr style=\"text-align: right;\">\n",
              "      <th></th>\n",
              "      <th>column_name</th>\n",
              "      <th>data_type</th>\n",
              "    </tr>\n",
              "  </thead>\n",
              "  <tbody>\n",
              "    <tr>\n",
              "      <th>0</th>\n",
              "      <td>numero_de_cliente</td>\n",
              "      <td>BIGINT</td>\n",
              "    </tr>\n",
              "    <tr>\n",
              "      <th>1</th>\n",
              "      <td>foto_mes</td>\n",
              "      <td>BIGINT</td>\n",
              "    </tr>\n",
              "    <tr>\n",
              "      <th>2</th>\n",
              "      <td>active_quarter</td>\n",
              "      <td>BIGINT</td>\n",
              "    </tr>\n",
              "    <tr>\n",
              "      <th>3</th>\n",
              "      <td>cliente_vip</td>\n",
              "      <td>BIGINT</td>\n",
              "    </tr>\n",
              "    <tr>\n",
              "      <th>4</th>\n",
              "      <td>internet</td>\n",
              "      <td>BIGINT</td>\n",
              "    </tr>\n",
              "    <tr>\n",
              "      <th>...</th>\n",
              "      <td>...</td>\n",
              "      <td>...</td>\n",
              "    </tr>\n",
              "    <tr>\n",
              "      <th>150</th>\n",
              "      <td>Visa_mconsumototal</td>\n",
              "      <td>DOUBLE</td>\n",
              "    </tr>\n",
              "    <tr>\n",
              "      <th>151</th>\n",
              "      <td>Visa_cconsumos</td>\n",
              "      <td>BIGINT</td>\n",
              "    </tr>\n",
              "    <tr>\n",
              "      <th>152</th>\n",
              "      <td>Visa_cadelantosefectivo</td>\n",
              "      <td>BIGINT</td>\n",
              "    </tr>\n",
              "    <tr>\n",
              "      <th>153</th>\n",
              "      <td>Visa_mpagominimo</td>\n",
              "      <td>DOUBLE</td>\n",
              "    </tr>\n",
              "    <tr>\n",
              "      <th>154</th>\n",
              "      <td>clase_ternaria</td>\n",
              "      <td>VARCHAR</td>\n",
              "    </tr>\n",
              "  </tbody>\n",
              "</table>\n",
              "<p>155 rows × 2 columns</p>\n",
              "</div>"
            ],
            "text/plain": [
              "                 column_name data_type\n",
              "0          numero_de_cliente    BIGINT\n",
              "1                   foto_mes    BIGINT\n",
              "2             active_quarter    BIGINT\n",
              "3                cliente_vip    BIGINT\n",
              "4                   internet    BIGINT\n",
              "..                       ...       ...\n",
              "150       Visa_mconsumototal    DOUBLE\n",
              "151           Visa_cconsumos    BIGINT\n",
              "152  Visa_cadelantosefectivo    BIGINT\n",
              "153         Visa_mpagominimo    DOUBLE\n",
              "154           clase_ternaria   VARCHAR\n",
              "\n",
              "[155 rows x 2 columns]"
            ]
          },
          "execution_count": 42,
          "metadata": {},
          "output_type": "execute_result"
        }
      ],
      "source": [
        "%%sql\n",
        "SELECT column_name, data_type\n",
        "FROM information_schema.columns\n",
        "WHERE table_name = 'competencia_02'"
      ]
    },
    {
      "cell_type": "markdown",
      "metadata": {
        "id": "Rv_BK8MJ4NhR"
      },
      "source": [
        "Calcular el valor del mes anterior de un campo\n"
      ]
    },
    {
      "cell_type": "code",
      "execution_count": 43,
      "metadata": {
        "colab": {
          "base_uri": "https://localhost:8080/",
          "height": 397
        },
        "id": "3_QRyZSu4NhR",
        "outputId": "9764365b-77da-428f-d3aa-67b0093ba817"
      },
      "outputs": [
        {
          "name": "stdout",
          "output_type": "stream",
          "text": [
            "CPU times: total: 11.5 s\n",
            "Wall time: 6.95 s\n"
          ]
        },
        {
          "data": {
            "text/html": [
              "<div>\n",
              "<style scoped>\n",
              "    .dataframe tbody tr th:only-of-type {\n",
              "        vertical-align: middle;\n",
              "    }\n",
              "\n",
              "    .dataframe tbody tr th {\n",
              "        vertical-align: top;\n",
              "    }\n",
              "\n",
              "    .dataframe thead th {\n",
              "        text-align: right;\n",
              "    }\n",
              "</style>\n",
              "<table border=\"1\" class=\"dataframe\">\n",
              "  <thead>\n",
              "    <tr style=\"text-align: right;\">\n",
              "      <th></th>\n",
              "      <th>numero_de_cliente</th>\n",
              "      <th>foto_mes</th>\n",
              "      <th>ctrx_quarter</th>\n",
              "      <th>lag_1_ctrx_quarter</th>\n",
              "    </tr>\n",
              "  </thead>\n",
              "  <tbody>\n",
              "    <tr>\n",
              "      <th>0</th>\n",
              "      <td>29188883</td>\n",
              "      <td>201901</td>\n",
              "      <td>43</td>\n",
              "      <td>NaN</td>\n",
              "    </tr>\n",
              "    <tr>\n",
              "      <th>1</th>\n",
              "      <td>29188883</td>\n",
              "      <td>201902</td>\n",
              "      <td>45</td>\n",
              "      <td>43.0</td>\n",
              "    </tr>\n",
              "    <tr>\n",
              "      <th>2</th>\n",
              "      <td>29188883</td>\n",
              "      <td>201903</td>\n",
              "      <td>39</td>\n",
              "      <td>45.0</td>\n",
              "    </tr>\n",
              "    <tr>\n",
              "      <th>3</th>\n",
              "      <td>29188883</td>\n",
              "      <td>201904</td>\n",
              "      <td>38</td>\n",
              "      <td>39.0</td>\n",
              "    </tr>\n",
              "    <tr>\n",
              "      <th>4</th>\n",
              "      <td>29188883</td>\n",
              "      <td>201905</td>\n",
              "      <td>39</td>\n",
              "      <td>38.0</td>\n",
              "    </tr>\n",
              "    <tr>\n",
              "      <th>5</th>\n",
              "      <td>29188883</td>\n",
              "      <td>201906</td>\n",
              "      <td>41</td>\n",
              "      <td>39.0</td>\n",
              "    </tr>\n",
              "    <tr>\n",
              "      <th>6</th>\n",
              "      <td>29188883</td>\n",
              "      <td>201907</td>\n",
              "      <td>34</td>\n",
              "      <td>41.0</td>\n",
              "    </tr>\n",
              "    <tr>\n",
              "      <th>7</th>\n",
              "      <td>29188883</td>\n",
              "      <td>201908</td>\n",
              "      <td>30</td>\n",
              "      <td>34.0</td>\n",
              "    </tr>\n",
              "    <tr>\n",
              "      <th>8</th>\n",
              "      <td>29188883</td>\n",
              "      <td>201909</td>\n",
              "      <td>25</td>\n",
              "      <td>30.0</td>\n",
              "    </tr>\n",
              "    <tr>\n",
              "      <th>9</th>\n",
              "      <td>29188883</td>\n",
              "      <td>201910</td>\n",
              "      <td>30</td>\n",
              "      <td>25.0</td>\n",
              "    </tr>\n",
              "  </tbody>\n",
              "</table>\n",
              "</div>"
            ],
            "text/plain": [
              "   numero_de_cliente  foto_mes  ctrx_quarter  lag_1_ctrx_quarter\n",
              "0           29188883    201901            43                 NaN\n",
              "1           29188883    201902            45                43.0\n",
              "2           29188883    201903            39                45.0\n",
              "3           29188883    201904            38                39.0\n",
              "4           29188883    201905            39                38.0\n",
              "5           29188883    201906            41                39.0\n",
              "6           29188883    201907            34                41.0\n",
              "7           29188883    201908            30                34.0\n",
              "8           29188883    201909            25                30.0\n",
              "9           29188883    201910            30                25.0"
            ]
          },
          "execution_count": 43,
          "metadata": {},
          "output_type": "execute_result"
        }
      ],
      "source": [
        "%%time\n",
        "%%sql\n",
        "select\n",
        "  numero_de_cliente\n",
        "  , foto_mes\n",
        "  , ctrx_quarter\n",
        "  , lag(ctrx_quarter, 1) over (partition by numero_de_cliente order by foto_mes) as lag_1_ctrx_quarter\n",
        "from competencia_02\n",
        "limit 10"
      ]
    },
    {
      "cell_type": "markdown",
      "metadata": {
        "id": "HUlLuFj44Nhb"
      },
      "source": [
        "Si embargo puede resultar incómodo escribir constantemente el over partition sobre todo si se buscan aplicar muchas veces para distintas funciones. Para reducir el código se puede usar la siguiente sintaxis\n",
        "\n",
        "\n"
      ]
    },
    {
      "cell_type": "code",
      "execution_count": 44,
      "metadata": {
        "colab": {
          "base_uri": "https://localhost:8080/",
          "height": 383
        },
        "id": "JlzytoeX4Nhb",
        "outputId": "f647d4a6-c856-411c-bbd5-89e17e3e68f7"
      },
      "outputs": [
        {
          "data": {
            "text/html": [
              "<div>\n",
              "<style scoped>\n",
              "    .dataframe tbody tr th:only-of-type {\n",
              "        vertical-align: middle;\n",
              "    }\n",
              "\n",
              "    .dataframe tbody tr th {\n",
              "        vertical-align: top;\n",
              "    }\n",
              "\n",
              "    .dataframe thead th {\n",
              "        text-align: right;\n",
              "    }\n",
              "</style>\n",
              "<table border=\"1\" class=\"dataframe\">\n",
              "  <thead>\n",
              "    <tr style=\"text-align: right;\">\n",
              "      <th></th>\n",
              "      <th>numero_de_cliente</th>\n",
              "      <th>foto_mes</th>\n",
              "      <th>ctrx_quarter</th>\n",
              "      <th>ctrx_quarter_media_6</th>\n",
              "      <th>ctrx_quarter_max_6</th>\n",
              "      <th>ctrx_quarter_min_6</th>\n",
              "    </tr>\n",
              "  </thead>\n",
              "  <tbody>\n",
              "    <tr>\n",
              "      <th>0</th>\n",
              "      <td>29188883</td>\n",
              "      <td>201901</td>\n",
              "      <td>43</td>\n",
              "      <td>43.000000</td>\n",
              "      <td>43</td>\n",
              "      <td>43</td>\n",
              "    </tr>\n",
              "    <tr>\n",
              "      <th>1</th>\n",
              "      <td>29188883</td>\n",
              "      <td>201902</td>\n",
              "      <td>45</td>\n",
              "      <td>44.000000</td>\n",
              "      <td>45</td>\n",
              "      <td>43</td>\n",
              "    </tr>\n",
              "    <tr>\n",
              "      <th>2</th>\n",
              "      <td>29188883</td>\n",
              "      <td>201903</td>\n",
              "      <td>39</td>\n",
              "      <td>42.333333</td>\n",
              "      <td>45</td>\n",
              "      <td>39</td>\n",
              "    </tr>\n",
              "    <tr>\n",
              "      <th>3</th>\n",
              "      <td>29188883</td>\n",
              "      <td>201904</td>\n",
              "      <td>38</td>\n",
              "      <td>41.250000</td>\n",
              "      <td>45</td>\n",
              "      <td>38</td>\n",
              "    </tr>\n",
              "    <tr>\n",
              "      <th>4</th>\n",
              "      <td>29188883</td>\n",
              "      <td>201905</td>\n",
              "      <td>39</td>\n",
              "      <td>40.800000</td>\n",
              "      <td>45</td>\n",
              "      <td>38</td>\n",
              "    </tr>\n",
              "    <tr>\n",
              "      <th>5</th>\n",
              "      <td>29188883</td>\n",
              "      <td>201906</td>\n",
              "      <td>41</td>\n",
              "      <td>40.833333</td>\n",
              "      <td>45</td>\n",
              "      <td>38</td>\n",
              "    </tr>\n",
              "    <tr>\n",
              "      <th>6</th>\n",
              "      <td>29188883</td>\n",
              "      <td>201907</td>\n",
              "      <td>34</td>\n",
              "      <td>39.333333</td>\n",
              "      <td>45</td>\n",
              "      <td>34</td>\n",
              "    </tr>\n",
              "    <tr>\n",
              "      <th>7</th>\n",
              "      <td>29188883</td>\n",
              "      <td>201908</td>\n",
              "      <td>30</td>\n",
              "      <td>36.833333</td>\n",
              "      <td>41</td>\n",
              "      <td>30</td>\n",
              "    </tr>\n",
              "    <tr>\n",
              "      <th>8</th>\n",
              "      <td>29188883</td>\n",
              "      <td>201909</td>\n",
              "      <td>25</td>\n",
              "      <td>34.500000</td>\n",
              "      <td>41</td>\n",
              "      <td>25</td>\n",
              "    </tr>\n",
              "    <tr>\n",
              "      <th>9</th>\n",
              "      <td>29188883</td>\n",
              "      <td>201910</td>\n",
              "      <td>30</td>\n",
              "      <td>33.166667</td>\n",
              "      <td>41</td>\n",
              "      <td>25</td>\n",
              "    </tr>\n",
              "  </tbody>\n",
              "</table>\n",
              "</div>"
            ],
            "text/plain": [
              "   numero_de_cliente  foto_mes  ctrx_quarter  ctrx_quarter_media_6   \n",
              "0           29188883    201901            43             43.000000  \\\n",
              "1           29188883    201902            45             44.000000   \n",
              "2           29188883    201903            39             42.333333   \n",
              "3           29188883    201904            38             41.250000   \n",
              "4           29188883    201905            39             40.800000   \n",
              "5           29188883    201906            41             40.833333   \n",
              "6           29188883    201907            34             39.333333   \n",
              "7           29188883    201908            30             36.833333   \n",
              "8           29188883    201909            25             34.500000   \n",
              "9           29188883    201910            30             33.166667   \n",
              "\n",
              "   ctrx_quarter_max_6  ctrx_quarter_min_6  \n",
              "0                  43                  43  \n",
              "1                  45                  43  \n",
              "2                  45                  39  \n",
              "3                  45                  38  \n",
              "4                  45                  38  \n",
              "5                  45                  38  \n",
              "6                  45                  34  \n",
              "7                  41                  30  \n",
              "8                  41                  25  \n",
              "9                  41                  25  "
            ]
          },
          "execution_count": 44,
          "metadata": {},
          "output_type": "execute_result"
        }
      ],
      "source": [
        "%%sql\n",
        "select\n",
        "  numero_de_cliente\n",
        "  , foto_mes\n",
        "  , ctrx_quarter\n",
        "  , avg(ctrx_quarter) over ventana_6 as ctrx_quarter_media_6\n",
        "  , max(ctrx_quarter) over ventana_6 as ctrx_quarter_max_6\n",
        "  , min(ctrx_quarter) over ventana_6 as ctrx_quarter_min_6\n",
        "from competencia_02\n",
        "window ventana_6 as (partition by numero_de_cliente order by foto_mes rows between 5 preceding and current row)\n",
        "limit 10"
      ]
    },
    {
      "cell_type": "markdown",
      "metadata": {
        "id": "zce4qwrR4Nhb"
      },
      "source": [
        "Un caso más, que ni me voy a molestar en explicar que significa...\n",
        "\n"
      ]
    },
    {
      "cell_type": "code",
      "execution_count": 45,
      "metadata": {
        "colab": {
          "base_uri": "https://localhost:8080/",
          "height": 363
        },
        "id": "5F364-UV4Nhb",
        "outputId": "55a4e59b-3f9d-4c0d-9435-ba25cb790d9f"
      },
      "outputs": [
        {
          "data": {
            "text/html": [
              "<div>\n",
              "<style scoped>\n",
              "    .dataframe tbody tr th:only-of-type {\n",
              "        vertical-align: middle;\n",
              "    }\n",
              "\n",
              "    .dataframe tbody tr th {\n",
              "        vertical-align: top;\n",
              "    }\n",
              "\n",
              "    .dataframe thead th {\n",
              "        text-align: right;\n",
              "    }\n",
              "</style>\n",
              "<table border=\"1\" class=\"dataframe\">\n",
              "  <thead>\n",
              "    <tr style=\"text-align: right;\">\n",
              "      <th></th>\n",
              "      <th>numero_de_cliente</th>\n",
              "      <th>foto_mes</th>\n",
              "      <th>ctrx_quarter</th>\n",
              "      <th>ctrx_quarter_slope_6</th>\n",
              "    </tr>\n",
              "  </thead>\n",
              "  <tbody>\n",
              "    <tr>\n",
              "      <th>0</th>\n",
              "      <td>29188883</td>\n",
              "      <td>201901</td>\n",
              "      <td>43</td>\n",
              "      <td>NaN</td>\n",
              "    </tr>\n",
              "    <tr>\n",
              "      <th>1</th>\n",
              "      <td>29188883</td>\n",
              "      <td>201902</td>\n",
              "      <td>45</td>\n",
              "      <td>2.000000</td>\n",
              "    </tr>\n",
              "    <tr>\n",
              "      <th>2</th>\n",
              "      <td>29188883</td>\n",
              "      <td>201903</td>\n",
              "      <td>39</td>\n",
              "      <td>-2.000000</td>\n",
              "    </tr>\n",
              "    <tr>\n",
              "      <th>3</th>\n",
              "      <td>29188883</td>\n",
              "      <td>201904</td>\n",
              "      <td>38</td>\n",
              "      <td>-2.100000</td>\n",
              "    </tr>\n",
              "    <tr>\n",
              "      <th>4</th>\n",
              "      <td>29188883</td>\n",
              "      <td>201905</td>\n",
              "      <td>39</td>\n",
              "      <td>-1.500000</td>\n",
              "    </tr>\n",
              "    <tr>\n",
              "      <th>5</th>\n",
              "      <td>29188883</td>\n",
              "      <td>201906</td>\n",
              "      <td>41</td>\n",
              "      <td>-0.828571</td>\n",
              "    </tr>\n",
              "    <tr>\n",
              "      <th>6</th>\n",
              "      <td>29188883</td>\n",
              "      <td>201907</td>\n",
              "      <td>34</td>\n",
              "      <td>-1.371429</td>\n",
              "    </tr>\n",
              "    <tr>\n",
              "      <th>7</th>\n",
              "      <td>29188883</td>\n",
              "      <td>201908</td>\n",
              "      <td>30</td>\n",
              "      <td>-1.571429</td>\n",
              "    </tr>\n",
              "    <tr>\n",
              "      <th>8</th>\n",
              "      <td>29188883</td>\n",
              "      <td>201909</td>\n",
              "      <td>25</td>\n",
              "      <td>-2.828571</td>\n",
              "    </tr>\n",
              "    <tr>\n",
              "      <th>9</th>\n",
              "      <td>29188883</td>\n",
              "      <td>201910</td>\n",
              "      <td>30</td>\n",
              "      <td>-2.771429</td>\n",
              "    </tr>\n",
              "  </tbody>\n",
              "</table>\n",
              "</div>"
            ],
            "text/plain": [
              "   numero_de_cliente  foto_mes  ctrx_quarter  ctrx_quarter_slope_6\n",
              "0           29188883    201901            43                   NaN\n",
              "1           29188883    201902            45              2.000000\n",
              "2           29188883    201903            39             -2.000000\n",
              "3           29188883    201904            38             -2.100000\n",
              "4           29188883    201905            39             -1.500000\n",
              "5           29188883    201906            41             -0.828571\n",
              "6           29188883    201907            34             -1.371429\n",
              "7           29188883    201908            30             -1.571429\n",
              "8           29188883    201909            25             -2.828571\n",
              "9           29188883    201910            30             -2.771429"
            ]
          },
          "execution_count": 45,
          "metadata": {},
          "output_type": "execute_result"
        }
      ],
      "source": [
        "%%sql\n",
        "select\n",
        "  numero_de_cliente\n",
        "  , foto_mes\n",
        "  , ctrx_quarter\n",
        "  ,regr_slope(ctrx_quarter, cliente_antiguedad) over ventana_6 as ctrx_quarter_slope_6\n",
        "from competencia_02\n",
        "window ventana_6 as (partition by numero_de_cliente order by foto_mes rows between 5 preceding and current row)\n",
        "limit 10"
      ]
    },
    {
      "cell_type": "code",
      "execution_count": 46,
      "metadata": {},
      "outputs": [
        {
          "name": "stdout",
          "output_type": "stream",
          "text": [
            "CPU times: total: 57.1 s\n",
            "Wall time: 38.4 s\n"
          ]
        },
        {
          "data": {
            "text/html": [
              "<div>\n",
              "<style scoped>\n",
              "    .dataframe tbody tr th:only-of-type {\n",
              "        vertical-align: middle;\n",
              "    }\n",
              "\n",
              "    .dataframe tbody tr th {\n",
              "        vertical-align: top;\n",
              "    }\n",
              "\n",
              "    .dataframe thead th {\n",
              "        text-align: right;\n",
              "    }\n",
              "</style>\n",
              "<table border=\"1\" class=\"dataframe\">\n",
              "  <thead>\n",
              "    <tr style=\"text-align: right;\">\n",
              "      <th></th>\n",
              "      <th>Success</th>\n",
              "    </tr>\n",
              "  </thead>\n",
              "  <tbody>\n",
              "  </tbody>\n",
              "</table>\n",
              "</div>"
            ],
            "text/plain": [
              "Empty DataFrame\n",
              "Columns: [Success]\n",
              "Index: []"
            ]
          },
          "execution_count": 46,
          "metadata": {},
          "output_type": "execute_result"
        }
      ],
      "source": [
        "%%time\n",
        "%%sql\n",
        "create or replace table competencia_02 as\n",
        "SELECT\n",
        "  *, \n",
        "  (CASE WHEN mpayroll == 0 THEN 0 ELSE mcomisiones_mantenimiento / mpayroll END) as proporcion_comisiones_haberes, \n",
        "  (CASE WHEN mpayroll == 0 THEN 0 ELSE (Visa_msaldopesos + Master_msaldopesos) / mpayroll END) as proporcion_deuda_payroll, \n",
        "  (CASE WHEN mpayroll == 0 THEN 0 ELSE (Visa_msaldopesos + Master_msaldopesos) / (mcuenta_corriente + mcaja_ahorro) END) as proporcion_deuda_monto_cuentas,\n",
        "  (CASE WHEN mcomisiones_mantenimiento == 0 THEN 0 ELSE (Visa_mlimitecompra + Master_mlimitecompra) / mcomisiones_mantenimiento END)  as proporcion_limite_comisiones\n",
        "FROM competencia_02\n"
      ]
    },
    {
      "cell_type": "code",
      "execution_count": 50,
      "metadata": {
        "colab": {
          "base_uri": "https://localhost:8080/"
        },
        "id": "xzoJ2PCS4Nhb",
        "outputId": "0bafa5a9-d361-4067-da8c-70f2b7dc4959"
      },
      "outputs": [
        {
          "name": "stdout",
          "output_type": "stream",
          "text": [
            "['ctrx_quarter', 'mpasivos_margen', 'mautoservicio', 'ctarjeta_debito_transacciones', 'mtransferencias_emitidas', 'ctransferencias_emitidas', 'mpayroll', 'cpayroll_trx', 'mcomisiones_mantenimiento', 'mcomisiones_otras', 'mcomisiones', 'mcaja_ahorro', 'mcuentas_saldo', 'mtarjeta_visa_consumo', 'mprestamos_personales', 'Master_mlimitecompra', 'Visa_mlimitecompra', 'proporcion_comisiones_haberes', 'proporcion_limite_comisiones', 'proporcion_deuda_monto_cuentas']\n",
            "20\n"
          ]
        }
      ],
      "source": [
        "campos = [\n",
        "    'ctrx_quarter', \n",
        "    'mpasivos_margen', \n",
        "    'mautoservicio' , \n",
        "    'ctarjeta_debito_transacciones' , \n",
        "    'mtransferencias_emitidas' , \n",
        "    'ctransferencias_emitidas' , \n",
        "    'mpayroll' , \n",
        "    'cpayroll_trx', \n",
        "    'mcomisiones_mantenimiento', \n",
        "    'mcomisiones_otras', \n",
        "    'mcomisiones', \n",
        "    'mcaja_ahorro', \n",
        "    'mcuentas_saldo', \n",
        "    'mtarjeta_visa_consumo',\n",
        "    'mprestamos_personales',\n",
        "    'Master_mlimitecompra',\n",
        "    'Visa_mlimitecompra',\n",
        "    'proporcion_comisiones_haberes',\n",
        "    'proporcion_limite_comisiones',\n",
        "    'proporcion_deuda_monto_cuentas'\n",
        "    ]\n",
        "print(campos)\n",
        "print(len(campos))"
      ]
    },
    {
      "cell_type": "markdown",
      "metadata": {
        "id": "LfVoKRgFA2bA"
      },
      "source": [
        "###6 meses"
      ]
    },
    {
      "cell_type": "code",
      "execution_count": 51,
      "metadata": {
        "colab": {
          "base_uri": "https://localhost:8080/"
        },
        "id": "pmdV8CC14Nhb",
        "outputId": "7fa37957-73ee-44ae-abe8-b8c057a5cfe3"
      },
      "outputs": [
        {
          "name": "stdout",
          "output_type": "stream",
          "text": [
            "\n",
            ", regr_slope(ctrx_quarter, cliente_antiguedad) over ventana_6 as ctrx_quarter_slope_6, lag(ctrx_quarter, 1) over ventana_6 as ctrx_quarter_lag_1, lag(ctrx_quarter, 2) over ventana_6 as ctrx_quarter_lag_2, lag(ctrx_quarter, 3) over ventana_6 as ctrx_quarter_lag_3, lag(ctrx_quarter, 4) over ventana_6 as ctrx_quarter_lag_4, lag(ctrx_quarter, 5) over ventana_6 as ctrx_quarter_lag_5, lag(ctrx_quarter, 6) over ventana_6 as ctrx_quarter_lag_6, avg(ctrx_quarter) over ventana_6 as ctrx_quarter_media_6\n",
            ", regr_slope(mpasivos_margen, cliente_antiguedad) over ventana_6 as mpasivos_margen_slope_6, lag(mpasivos_margen, 1) over ventana_6 as mpasivos_margen_lag_1, lag(mpasivos_margen, 2) over ventana_6 as mpasivos_margen_lag_2, lag(mpasivos_margen, 3) over ventana_6 as mpasivos_margen_lag_3, lag(mpasivos_margen, 4) over ventana_6 as mpasivos_margen_lag_4, lag(mpasivos_margen, 5) over ventana_6 as mpasivos_margen_lag_5, lag(mpasivos_margen, 6) over ventana_6 as mpasivos_margen_lag_6, avg(mpasivos_margen) over ventana_6 as mpasivos_margen_media_6\n",
            ", regr_slope(mautoservicio, cliente_antiguedad) over ventana_6 as mautoservicio_slope_6, lag(mautoservicio, 1) over ventana_6 as mautoservicio_lag_1, lag(mautoservicio, 2) over ventana_6 as mautoservicio_lag_2, lag(mautoservicio, 3) over ventana_6 as mautoservicio_lag_3, lag(mautoservicio, 4) over ventana_6 as mautoservicio_lag_4, lag(mautoservicio, 5) over ventana_6 as mautoservicio_lag_5, lag(mautoservicio, 6) over ventana_6 as mautoservicio_lag_6, avg(mautoservicio) over ventana_6 as mautoservicio_media_6\n",
            ", regr_slope(ctarjeta_debito_transacciones, cliente_antiguedad) over ventana_6 as ctarjeta_debito_transacciones_slope_6, lag(ctarjeta_debito_transacciones, 1) over ventana_6 as ctarjeta_debito_transacciones_lag_1, lag(ctarjeta_debito_transacciones, 2) over ventana_6 as ctarjeta_debito_transacciones_lag_2, lag(ctarjeta_debito_transacciones, 3) over ventana_6 as ctarjeta_debito_transacciones_lag_3, lag(ctarjeta_debito_transacciones, 4) over ventana_6 as ctarjeta_debito_transacciones_lag_4, lag(ctarjeta_debito_transacciones, 5) over ventana_6 as ctarjeta_debito_transacciones_lag_5, lag(ctarjeta_debito_transacciones, 6) over ventana_6 as ctarjeta_debito_transacciones_lag_6, avg(ctarjeta_debito_transacciones) over ventana_6 as ctarjeta_debito_transacciones_media_6\n",
            ", regr_slope(mtransferencias_emitidas, cliente_antiguedad) over ventana_6 as mtransferencias_emitidas_slope_6, lag(mtransferencias_emitidas, 1) over ventana_6 as mtransferencias_emitidas_lag_1, lag(mtransferencias_emitidas, 2) over ventana_6 as mtransferencias_emitidas_lag_2, lag(mtransferencias_emitidas, 3) over ventana_6 as mtransferencias_emitidas_lag_3, lag(mtransferencias_emitidas, 4) over ventana_6 as mtransferencias_emitidas_lag_4, lag(mtransferencias_emitidas, 5) over ventana_6 as mtransferencias_emitidas_lag_5, lag(mtransferencias_emitidas, 6) over ventana_6 as mtransferencias_emitidas_lag_6, avg(mtransferencias_emitidas) over ventana_6 as mtransferencias_emitidas_media_6\n",
            ", regr_slope(ctransferencias_emitidas, cliente_antiguedad) over ventana_6 as ctransferencias_emitidas_slope_6, lag(ctransferencias_emitidas, 1) over ventana_6 as ctransferencias_emitidas_lag_1, lag(ctransferencias_emitidas, 2) over ventana_6 as ctransferencias_emitidas_lag_2, lag(ctransferencias_emitidas, 3) over ventana_6 as ctransferencias_emitidas_lag_3, lag(ctransferencias_emitidas, 4) over ventana_6 as ctransferencias_emitidas_lag_4, lag(ctransferencias_emitidas, 5) over ventana_6 as ctransferencias_emitidas_lag_5, lag(ctransferencias_emitidas, 6) over ventana_6 as ctransferencias_emitidas_lag_6, avg(ctransferencias_emitidas) over ventana_6 as ctransferencias_emitidas_media_6\n",
            ", regr_slope(mpayroll, cliente_antiguedad) over ventana_6 as mpayroll_slope_6, lag(mpayroll, 1) over ventana_6 as mpayroll_lag_1, lag(mpayroll, 2) over ventana_6 as mpayroll_lag_2, lag(mpayroll, 3) over ventana_6 as mpayroll_lag_3, lag(mpayroll, 4) over ventana_6 as mpayroll_lag_4, lag(mpayroll, 5) over ventana_6 as mpayroll_lag_5, lag(mpayroll, 6) over ventana_6 as mpayroll_lag_6, avg(mpayroll) over ventana_6 as mpayroll_media_6\n",
            ", regr_slope(cpayroll_trx, cliente_antiguedad) over ventana_6 as cpayroll_trx_slope_6, lag(cpayroll_trx, 1) over ventana_6 as cpayroll_trx_lag_1, lag(cpayroll_trx, 2) over ventana_6 as cpayroll_trx_lag_2, lag(cpayroll_trx, 3) over ventana_6 as cpayroll_trx_lag_3, lag(cpayroll_trx, 4) over ventana_6 as cpayroll_trx_lag_4, lag(cpayroll_trx, 5) over ventana_6 as cpayroll_trx_lag_5, lag(cpayroll_trx, 6) over ventana_6 as cpayroll_trx_lag_6, avg(cpayroll_trx) over ventana_6 as cpayroll_trx_media_6\n",
            ", regr_slope(mcomisiones_mantenimiento, cliente_antiguedad) over ventana_6 as mcomisiones_mantenimiento_slope_6, lag(mcomisiones_mantenimiento, 1) over ventana_6 as mcomisiones_mantenimiento_lag_1, lag(mcomisiones_mantenimiento, 2) over ventana_6 as mcomisiones_mantenimiento_lag_2, lag(mcomisiones_mantenimiento, 3) over ventana_6 as mcomisiones_mantenimiento_lag_3, lag(mcomisiones_mantenimiento, 4) over ventana_6 as mcomisiones_mantenimiento_lag_4, lag(mcomisiones_mantenimiento, 5) over ventana_6 as mcomisiones_mantenimiento_lag_5, lag(mcomisiones_mantenimiento, 6) over ventana_6 as mcomisiones_mantenimiento_lag_6, avg(mcomisiones_mantenimiento) over ventana_6 as mcomisiones_mantenimiento_media_6\n",
            ", regr_slope(mcomisiones_otras, cliente_antiguedad) over ventana_6 as mcomisiones_otras_slope_6, lag(mcomisiones_otras, 1) over ventana_6 as mcomisiones_otras_lag_1, lag(mcomisiones_otras, 2) over ventana_6 as mcomisiones_otras_lag_2, lag(mcomisiones_otras, 3) over ventana_6 as mcomisiones_otras_lag_3, lag(mcomisiones_otras, 4) over ventana_6 as mcomisiones_otras_lag_4, lag(mcomisiones_otras, 5) over ventana_6 as mcomisiones_otras_lag_5, lag(mcomisiones_otras, 6) over ventana_6 as mcomisiones_otras_lag_6, avg(mcomisiones_otras) over ventana_6 as mcomisiones_otras_media_6\n",
            ", regr_slope(mcomisiones, cliente_antiguedad) over ventana_6 as mcomisiones_slope_6, lag(mcomisiones, 1) over ventana_6 as mcomisiones_lag_1, lag(mcomisiones, 2) over ventana_6 as mcomisiones_lag_2, lag(mcomisiones, 3) over ventana_6 as mcomisiones_lag_3, lag(mcomisiones, 4) over ventana_6 as mcomisiones_lag_4, lag(mcomisiones, 5) over ventana_6 as mcomisiones_lag_5, lag(mcomisiones, 6) over ventana_6 as mcomisiones_lag_6, avg(mcomisiones) over ventana_6 as mcomisiones_media_6\n",
            ", regr_slope(mcaja_ahorro, cliente_antiguedad) over ventana_6 as mcaja_ahorro_slope_6, lag(mcaja_ahorro, 1) over ventana_6 as mcaja_ahorro_lag_1, lag(mcaja_ahorro, 2) over ventana_6 as mcaja_ahorro_lag_2, lag(mcaja_ahorro, 3) over ventana_6 as mcaja_ahorro_lag_3, lag(mcaja_ahorro, 4) over ventana_6 as mcaja_ahorro_lag_4, lag(mcaja_ahorro, 5) over ventana_6 as mcaja_ahorro_lag_5, lag(mcaja_ahorro, 6) over ventana_6 as mcaja_ahorro_lag_6, avg(mcaja_ahorro) over ventana_6 as mcaja_ahorro_media_6\n",
            ", regr_slope(mcuentas_saldo, cliente_antiguedad) over ventana_6 as mcuentas_saldo_slope_6, lag(mcuentas_saldo, 1) over ventana_6 as mcuentas_saldo_lag_1, lag(mcuentas_saldo, 2) over ventana_6 as mcuentas_saldo_lag_2, lag(mcuentas_saldo, 3) over ventana_6 as mcuentas_saldo_lag_3, lag(mcuentas_saldo, 4) over ventana_6 as mcuentas_saldo_lag_4, lag(mcuentas_saldo, 5) over ventana_6 as mcuentas_saldo_lag_5, lag(mcuentas_saldo, 6) over ventana_6 as mcuentas_saldo_lag_6, avg(mcuentas_saldo) over ventana_6 as mcuentas_saldo_media_6\n",
            ", regr_slope(mtarjeta_visa_consumo, cliente_antiguedad) over ventana_6 as mtarjeta_visa_consumo_slope_6, lag(mtarjeta_visa_consumo, 1) over ventana_6 as mtarjeta_visa_consumo_lag_1, lag(mtarjeta_visa_consumo, 2) over ventana_6 as mtarjeta_visa_consumo_lag_2, lag(mtarjeta_visa_consumo, 3) over ventana_6 as mtarjeta_visa_consumo_lag_3, lag(mtarjeta_visa_consumo, 4) over ventana_6 as mtarjeta_visa_consumo_lag_4, lag(mtarjeta_visa_consumo, 5) over ventana_6 as mtarjeta_visa_consumo_lag_5, lag(mtarjeta_visa_consumo, 6) over ventana_6 as mtarjeta_visa_consumo_lag_6, avg(mtarjeta_visa_consumo) over ventana_6 as mtarjeta_visa_consumo_media_6\n",
            ", regr_slope(mprestamos_personales, cliente_antiguedad) over ventana_6 as mprestamos_personales_slope_6, lag(mprestamos_personales, 1) over ventana_6 as mprestamos_personales_lag_1, lag(mprestamos_personales, 2) over ventana_6 as mprestamos_personales_lag_2, lag(mprestamos_personales, 3) over ventana_6 as mprestamos_personales_lag_3, lag(mprestamos_personales, 4) over ventana_6 as mprestamos_personales_lag_4, lag(mprestamos_personales, 5) over ventana_6 as mprestamos_personales_lag_5, lag(mprestamos_personales, 6) over ventana_6 as mprestamos_personales_lag_6, avg(mprestamos_personales) over ventana_6 as mprestamos_personales_media_6\n",
            ", regr_slope(Master_mlimitecompra, cliente_antiguedad) over ventana_6 as Master_mlimitecompra_slope_6, lag(Master_mlimitecompra, 1) over ventana_6 as Master_mlimitecompra_lag_1, lag(Master_mlimitecompra, 2) over ventana_6 as Master_mlimitecompra_lag_2, lag(Master_mlimitecompra, 3) over ventana_6 as Master_mlimitecompra_lag_3, lag(Master_mlimitecompra, 4) over ventana_6 as Master_mlimitecompra_lag_4, lag(Master_mlimitecompra, 5) over ventana_6 as Master_mlimitecompra_lag_5, lag(Master_mlimitecompra, 6) over ventana_6 as Master_mlimitecompra_lag_6, avg(Master_mlimitecompra) over ventana_6 as Master_mlimitecompra_media_6\n",
            ", regr_slope(Visa_mlimitecompra, cliente_antiguedad) over ventana_6 as Visa_mlimitecompra_slope_6, lag(Visa_mlimitecompra, 1) over ventana_6 as Visa_mlimitecompra_lag_1, lag(Visa_mlimitecompra, 2) over ventana_6 as Visa_mlimitecompra_lag_2, lag(Visa_mlimitecompra, 3) over ventana_6 as Visa_mlimitecompra_lag_3, lag(Visa_mlimitecompra, 4) over ventana_6 as Visa_mlimitecompra_lag_4, lag(Visa_mlimitecompra, 5) over ventana_6 as Visa_mlimitecompra_lag_5, lag(Visa_mlimitecompra, 6) over ventana_6 as Visa_mlimitecompra_lag_6, avg(Visa_mlimitecompra) over ventana_6 as Visa_mlimitecompra_media_6\n",
            ", regr_slope(proporcion_comisiones_haberes, cliente_antiguedad) over ventana_6 as proporcion_comisiones_haberes_slope_6, lag(proporcion_comisiones_haberes, 1) over ventana_6 as proporcion_comisiones_haberes_lag_1, lag(proporcion_comisiones_haberes, 2) over ventana_6 as proporcion_comisiones_haberes_lag_2, lag(proporcion_comisiones_haberes, 3) over ventana_6 as proporcion_comisiones_haberes_lag_3, lag(proporcion_comisiones_haberes, 4) over ventana_6 as proporcion_comisiones_haberes_lag_4, lag(proporcion_comisiones_haberes, 5) over ventana_6 as proporcion_comisiones_haberes_lag_5, lag(proporcion_comisiones_haberes, 6) over ventana_6 as proporcion_comisiones_haberes_lag_6, avg(proporcion_comisiones_haberes) over ventana_6 as proporcion_comisiones_haberes_media_6\n",
            ", regr_slope(proporcion_limite_comisiones, cliente_antiguedad) over ventana_6 as proporcion_limite_comisiones_slope_6, lag(proporcion_limite_comisiones, 1) over ventana_6 as proporcion_limite_comisiones_lag_1, lag(proporcion_limite_comisiones, 2) over ventana_6 as proporcion_limite_comisiones_lag_2, lag(proporcion_limite_comisiones, 3) over ventana_6 as proporcion_limite_comisiones_lag_3, lag(proporcion_limite_comisiones, 4) over ventana_6 as proporcion_limite_comisiones_lag_4, lag(proporcion_limite_comisiones, 5) over ventana_6 as proporcion_limite_comisiones_lag_5, lag(proporcion_limite_comisiones, 6) over ventana_6 as proporcion_limite_comisiones_lag_6, avg(proporcion_limite_comisiones) over ventana_6 as proporcion_limite_comisiones_media_6\n",
            ", regr_slope(proporcion_deuda_monto_cuentas, cliente_antiguedad) over ventana_6 as proporcion_deuda_monto_cuentas_slope_6, lag(proporcion_deuda_monto_cuentas, 1) over ventana_6 as proporcion_deuda_monto_cuentas_lag_1, lag(proporcion_deuda_monto_cuentas, 2) over ventana_6 as proporcion_deuda_monto_cuentas_lag_2, lag(proporcion_deuda_monto_cuentas, 3) over ventana_6 as proporcion_deuda_monto_cuentas_lag_3, lag(proporcion_deuda_monto_cuentas, 4) over ventana_6 as proporcion_deuda_monto_cuentas_lag_4, lag(proporcion_deuda_monto_cuentas, 5) over ventana_6 as proporcion_deuda_monto_cuentas_lag_5, lag(proporcion_deuda_monto_cuentas, 6) over ventana_6 as proporcion_deuda_monto_cuentas_lag_6, avg(proporcion_deuda_monto_cuentas) over ventana_6 as proporcion_deuda_monto_cuentas_media_6\n"
          ]
        }
      ],
      "source": [
        "### Query para 6 meses\n",
        "len(campos)\n",
        "nuevos_features = \"\"\n",
        "for campo in campos:\n",
        "  nuevos_features += f\"\\n, regr_slope({campo}, cliente_antiguedad) over ventana_6 as {campo}_slope_6\"\n",
        "  nuevos_features += f\", lag({campo}, 1) over ventana_6 as {campo}_lag_1\"\n",
        "  nuevos_features += f\", lag({campo}, 2) over ventana_6 as {campo}_lag_2\"\n",
        "  nuevos_features += f\", lag({campo}, 3) over ventana_6 as {campo}_lag_3\"\n",
        "  nuevos_features += f\", lag({campo}, 4) over ventana_6 as {campo}_lag_4\"\n",
        "  nuevos_features += f\", lag({campo}, 5) over ventana_6 as {campo}_lag_5\"\n",
        "  nuevos_features += f\", lag({campo}, 6) over ventana_6 as {campo}_lag_6\"\n",
        "  nuevos_features += f\", avg({campo}) over ventana_6 as {campo}_media_6\"\n",
        "\n",
        "print(nuevos_features)"
      ]
    },
    {
      "cell_type": "markdown",
      "metadata": {
        "id": "IaehxjAO982n"
      },
      "source": [
        "el resultado anterior lo uso para esta nueva query"
      ]
    },
    {
      "cell_type": "code",
      "execution_count": 56,
      "metadata": {
        "colab": {
          "base_uri": "https://localhost:8080/",
          "height": 120,
          "referenced_widgets": [
            "cc28f5135ee545aba790557c1aec4af4",
            "f46c5ac06c0749c0bb95ecb228138fd0",
            "c7dfc5d124d44af7a9cb18c7772252ee"
          ]
        },
        "id": "WIMA1KRg4Nhc",
        "outputId": "11fb277c-ad8c-4128-cacd-6f5e08dd7ad1"
      },
      "outputs": [
        {
          "name": "stdout",
          "output_type": "stream",
          "text": [
            "CPU times: total: 6min 28s\n",
            "Wall time: 3min 26s\n"
          ]
        },
        {
          "data": {
            "text/html": [
              "<div>\n",
              "<style scoped>\n",
              "    .dataframe tbody tr th:only-of-type {\n",
              "        vertical-align: middle;\n",
              "    }\n",
              "\n",
              "    .dataframe tbody tr th {\n",
              "        vertical-align: top;\n",
              "    }\n",
              "\n",
              "    .dataframe thead th {\n",
              "        text-align: right;\n",
              "    }\n",
              "</style>\n",
              "<table border=\"1\" class=\"dataframe\">\n",
              "  <thead>\n",
              "    <tr style=\"text-align: right;\">\n",
              "      <th></th>\n",
              "      <th>Success</th>\n",
              "    </tr>\n",
              "  </thead>\n",
              "  <tbody>\n",
              "  </tbody>\n",
              "</table>\n",
              "</div>"
            ],
            "text/plain": [
              "Empty DataFrame\n",
              "Columns: [Success]\n",
              "Index: []"
            ]
          },
          "execution_count": 56,
          "metadata": {},
          "output_type": "execute_result"
        }
      ],
      "source": [
        "%%time\n",
        "%%sql\n",
        "create or replace table resultado as\n",
        "SELECT\n",
        "  *\n",
        ", regr_slope(ctrx_quarter, cliente_antiguedad) over ventana_6 as ctrx_quarter_slope_6, lag(ctrx_quarter, 1) over ventana_6 as ctrx_quarter_lag_1, lag(ctrx_quarter, 2) over ventana_6 as ctrx_quarter_lag_2, lag(ctrx_quarter, 3) over ventana_6 as ctrx_quarter_lag_3, lag(ctrx_quarter, 4) over ventana_6 as ctrx_quarter_lag_4, lag(ctrx_quarter, 5) over ventana_6 as ctrx_quarter_lag_5, lag(ctrx_quarter, 6) over ventana_6 as ctrx_quarter_lag_6, avg(ctrx_quarter) over ventana_6 as ctrx_quarter_media_6\n",
        ", regr_slope(mpasivos_margen, cliente_antiguedad) over ventana_6 as mpasivos_margen_slope_6, lag(mpasivos_margen, 1) over ventana_6 as mpasivos_margen_lag_1, lag(mpasivos_margen, 2) over ventana_6 as mpasivos_margen_lag_2, lag(mpasivos_margen, 3) over ventana_6 as mpasivos_margen_lag_3, lag(mpasivos_margen, 4) over ventana_6 as mpasivos_margen_lag_4, lag(mpasivos_margen, 5) over ventana_6 as mpasivos_margen_lag_5, lag(mpasivos_margen, 6) over ventana_6 as mpasivos_margen_lag_6, avg(mpasivos_margen) over ventana_6 as mpasivos_margen_media_6\n",
        ", regr_slope(mautoservicio, cliente_antiguedad) over ventana_6 as mautoservicio_slope_6, lag(mautoservicio, 1) over ventana_6 as mautoservicio_lag_1, lag(mautoservicio, 2) over ventana_6 as mautoservicio_lag_2, lag(mautoservicio, 3) over ventana_6 as mautoservicio_lag_3, lag(mautoservicio, 4) over ventana_6 as mautoservicio_lag_4, lag(mautoservicio, 5) over ventana_6 as mautoservicio_lag_5, lag(mautoservicio, 6) over ventana_6 as mautoservicio_lag_6, avg(mautoservicio) over ventana_6 as mautoservicio_media_6\n",
        ", regr_slope(ctarjeta_debito_transacciones, cliente_antiguedad) over ventana_6 as ctarjeta_debito_transacciones_slope_6, lag(ctarjeta_debito_transacciones, 1) over ventana_6 as ctarjeta_debito_transacciones_lag_1, lag(ctarjeta_debito_transacciones, 2) over ventana_6 as ctarjeta_debito_transacciones_lag_2, lag(ctarjeta_debito_transacciones, 3) over ventana_6 as ctarjeta_debito_transacciones_lag_3, lag(ctarjeta_debito_transacciones, 4) over ventana_6 as ctarjeta_debito_transacciones_lag_4, lag(ctarjeta_debito_transacciones, 5) over ventana_6 as ctarjeta_debito_transacciones_lag_5, lag(ctarjeta_debito_transacciones, 6) over ventana_6 as ctarjeta_debito_transacciones_lag_6, avg(ctarjeta_debito_transacciones) over ventana_6 as ctarjeta_debito_transacciones_media_6\n",
        ", regr_slope(mtransferencias_emitidas, cliente_antiguedad) over ventana_6 as mtransferencias_emitidas_slope_6, lag(mtransferencias_emitidas, 1) over ventana_6 as mtransferencias_emitidas_lag_1, lag(mtransferencias_emitidas, 2) over ventana_6 as mtransferencias_emitidas_lag_2, lag(mtransferencias_emitidas, 3) over ventana_6 as mtransferencias_emitidas_lag_3, lag(mtransferencias_emitidas, 4) over ventana_6 as mtransferencias_emitidas_lag_4, lag(mtransferencias_emitidas, 5) over ventana_6 as mtransferencias_emitidas_lag_5, lag(mtransferencias_emitidas, 6) over ventana_6 as mtransferencias_emitidas_lag_6, avg(mtransferencias_emitidas) over ventana_6 as mtransferencias_emitidas_media_6\n",
        ", regr_slope(ctransferencias_emitidas, cliente_antiguedad) over ventana_6 as ctransferencias_emitidas_slope_6, lag(ctransferencias_emitidas, 1) over ventana_6 as ctransferencias_emitidas_lag_1, lag(ctransferencias_emitidas, 2) over ventana_6 as ctransferencias_emitidas_lag_2, lag(ctransferencias_emitidas, 3) over ventana_6 as ctransferencias_emitidas_lag_3, lag(ctransferencias_emitidas, 4) over ventana_6 as ctransferencias_emitidas_lag_4, lag(ctransferencias_emitidas, 5) over ventana_6 as ctransferencias_emitidas_lag_5, lag(ctransferencias_emitidas, 6) over ventana_6 as ctransferencias_emitidas_lag_6, avg(ctransferencias_emitidas) over ventana_6 as ctransferencias_emitidas_media_6\n",
        ", regr_slope(mpayroll, cliente_antiguedad) over ventana_6 as mpayroll_slope_6, lag(mpayroll, 1) over ventana_6 as mpayroll_lag_1, lag(mpayroll, 2) over ventana_6 as mpayroll_lag_2, lag(mpayroll, 3) over ventana_6 as mpayroll_lag_3, lag(mpayroll, 4) over ventana_6 as mpayroll_lag_4, lag(mpayroll, 5) over ventana_6 as mpayroll_lag_5, lag(mpayroll, 6) over ventana_6 as mpayroll_lag_6, avg(mpayroll) over ventana_6 as mpayroll_media_6\n",
        ", regr_slope(cpayroll_trx, cliente_antiguedad) over ventana_6 as cpayroll_trx_slope_6, lag(cpayroll_trx, 1) over ventana_6 as cpayroll_trx_lag_1, lag(cpayroll_trx, 2) over ventana_6 as cpayroll_trx_lag_2, lag(cpayroll_trx, 3) over ventana_6 as cpayroll_trx_lag_3, lag(cpayroll_trx, 4) over ventana_6 as cpayroll_trx_lag_4, lag(cpayroll_trx, 5) over ventana_6 as cpayroll_trx_lag_5, lag(cpayroll_trx, 6) over ventana_6 as cpayroll_trx_lag_6, avg(cpayroll_trx) over ventana_6 as cpayroll_trx_media_6\n",
        ", regr_slope(mcomisiones_mantenimiento, cliente_antiguedad) over ventana_6 as mcomisiones_mantenimiento_slope_6, lag(mcomisiones_mantenimiento, 1) over ventana_6 as mcomisiones_mantenimiento_lag_1, lag(mcomisiones_mantenimiento, 2) over ventana_6 as mcomisiones_mantenimiento_lag_2, lag(mcomisiones_mantenimiento, 3) over ventana_6 as mcomisiones_mantenimiento_lag_3, lag(mcomisiones_mantenimiento, 4) over ventana_6 as mcomisiones_mantenimiento_lag_4, lag(mcomisiones_mantenimiento, 5) over ventana_6 as mcomisiones_mantenimiento_lag_5, lag(mcomisiones_mantenimiento, 6) over ventana_6 as mcomisiones_mantenimiento_lag_6, avg(mcomisiones_mantenimiento) over ventana_6 as mcomisiones_mantenimiento_media_6\n",
        ", regr_slope(mcomisiones_otras, cliente_antiguedad) over ventana_6 as mcomisiones_otras_slope_6, lag(mcomisiones_otras, 1) over ventana_6 as mcomisiones_otras_lag_1, lag(mcomisiones_otras, 2) over ventana_6 as mcomisiones_otras_lag_2, lag(mcomisiones_otras, 3) over ventana_6 as mcomisiones_otras_lag_3, lag(mcomisiones_otras, 4) over ventana_6 as mcomisiones_otras_lag_4, lag(mcomisiones_otras, 5) over ventana_6 as mcomisiones_otras_lag_5, lag(mcomisiones_otras, 6) over ventana_6 as mcomisiones_otras_lag_6, avg(mcomisiones_otras) over ventana_6 as mcomisiones_otras_media_6\n",
        ", regr_slope(mcomisiones, cliente_antiguedad) over ventana_6 as mcomisiones_slope_6, lag(mcomisiones, 1) over ventana_6 as mcomisiones_lag_1, lag(mcomisiones, 2) over ventana_6 as mcomisiones_lag_2, lag(mcomisiones, 3) over ventana_6 as mcomisiones_lag_3, lag(mcomisiones, 4) over ventana_6 as mcomisiones_lag_4, lag(mcomisiones, 5) over ventana_6 as mcomisiones_lag_5, lag(mcomisiones, 6) over ventana_6 as mcomisiones_lag_6, avg(mcomisiones) over ventana_6 as mcomisiones_media_6\n",
        ", regr_slope(mcaja_ahorro, cliente_antiguedad) over ventana_6 as mcaja_ahorro_slope_6, lag(mcaja_ahorro, 1) over ventana_6 as mcaja_ahorro_lag_1, lag(mcaja_ahorro, 2) over ventana_6 as mcaja_ahorro_lag_2, lag(mcaja_ahorro, 3) over ventana_6 as mcaja_ahorro_lag_3, lag(mcaja_ahorro, 4) over ventana_6 as mcaja_ahorro_lag_4, lag(mcaja_ahorro, 5) over ventana_6 as mcaja_ahorro_lag_5, lag(mcaja_ahorro, 6) over ventana_6 as mcaja_ahorro_lag_6, avg(mcaja_ahorro) over ventana_6 as mcaja_ahorro_media_6\n",
        ", regr_slope(mcuentas_saldo, cliente_antiguedad) over ventana_6 as mcuentas_saldo_slope_6, lag(mcuentas_saldo, 1) over ventana_6 as mcuentas_saldo_lag_1, lag(mcuentas_saldo, 2) over ventana_6 as mcuentas_saldo_lag_2, lag(mcuentas_saldo, 3) over ventana_6 as mcuentas_saldo_lag_3, lag(mcuentas_saldo, 4) over ventana_6 as mcuentas_saldo_lag_4, lag(mcuentas_saldo, 5) over ventana_6 as mcuentas_saldo_lag_5, lag(mcuentas_saldo, 6) over ventana_6 as mcuentas_saldo_lag_6, avg(mcuentas_saldo) over ventana_6 as mcuentas_saldo_media_6\n",
        ", regr_slope(mtarjeta_visa_consumo, cliente_antiguedad) over ventana_6 as mtarjeta_visa_consumo_slope_6, lag(mtarjeta_visa_consumo, 1) over ventana_6 as mtarjeta_visa_consumo_lag_1, lag(mtarjeta_visa_consumo, 2) over ventana_6 as mtarjeta_visa_consumo_lag_2, lag(mtarjeta_visa_consumo, 3) over ventana_6 as mtarjeta_visa_consumo_lag_3, lag(mtarjeta_visa_consumo, 4) over ventana_6 as mtarjeta_visa_consumo_lag_4, lag(mtarjeta_visa_consumo, 5) over ventana_6 as mtarjeta_visa_consumo_lag_5, lag(mtarjeta_visa_consumo, 6) over ventana_6 as mtarjeta_visa_consumo_lag_6, avg(mtarjeta_visa_consumo) over ventana_6 as mtarjeta_visa_consumo_media_6\n",
        ", regr_slope(mprestamos_personales, cliente_antiguedad) over ventana_6 as mprestamos_personales_slope_6, lag(mprestamos_personales, 1) over ventana_6 as mprestamos_personales_lag_1, lag(mprestamos_personales, 2) over ventana_6 as mprestamos_personales_lag_2, lag(mprestamos_personales, 3) over ventana_6 as mprestamos_personales_lag_3, lag(mprestamos_personales, 4) over ventana_6 as mprestamos_personales_lag_4, lag(mprestamos_personales, 5) over ventana_6 as mprestamos_personales_lag_5, lag(mprestamos_personales, 6) over ventana_6 as mprestamos_personales_lag_6, avg(mprestamos_personales) over ventana_6 as mprestamos_personales_media_6\n",
        ", regr_slope(Master_mlimitecompra, cliente_antiguedad) over ventana_6 as Master_mlimitecompra_slope_6, lag(Master_mlimitecompra, 1) over ventana_6 as Master_mlimitecompra_lag_1, lag(Master_mlimitecompra, 2) over ventana_6 as Master_mlimitecompra_lag_2, lag(Master_mlimitecompra, 3) over ventana_6 as Master_mlimitecompra_lag_3, lag(Master_mlimitecompra, 4) over ventana_6 as Master_mlimitecompra_lag_4, lag(Master_mlimitecompra, 5) over ventana_6 as Master_mlimitecompra_lag_5, lag(Master_mlimitecompra, 6) over ventana_6 as Master_mlimitecompra_lag_6, avg(Master_mlimitecompra) over ventana_6 as Master_mlimitecompra_media_6\n",
        ", regr_slope(Visa_mlimitecompra, cliente_antiguedad) over ventana_6 as Visa_mlimitecompra_slope_6, lag(Visa_mlimitecompra, 1) over ventana_6 as Visa_mlimitecompra_lag_1, lag(Visa_mlimitecompra, 2) over ventana_6 as Visa_mlimitecompra_lag_2, lag(Visa_mlimitecompra, 3) over ventana_6 as Visa_mlimitecompra_lag_3, lag(Visa_mlimitecompra, 4) over ventana_6 as Visa_mlimitecompra_lag_4, lag(Visa_mlimitecompra, 5) over ventana_6 as Visa_mlimitecompra_lag_5, lag(Visa_mlimitecompra, 6) over ventana_6 as Visa_mlimitecompra_lag_6, avg(Visa_mlimitecompra) over ventana_6 as Visa_mlimitecompra_media_6\n",
        ", regr_slope(proporcion_comisiones_haberes, cliente_antiguedad) over ventana_6 as proporcion_comisiones_haberes_slope_6, lag(proporcion_comisiones_haberes, 1) over ventana_6 as proporcion_comisiones_haberes_lag_1, lag(proporcion_comisiones_haberes, 2) over ventana_6 as proporcion_comisiones_haberes_lag_2, lag(proporcion_comisiones_haberes, 3) over ventana_6 as proporcion_comisiones_haberes_lag_3, lag(proporcion_comisiones_haberes, 4) over ventana_6 as proporcion_comisiones_haberes_lag_4, lag(proporcion_comisiones_haberes, 5) over ventana_6 as proporcion_comisiones_haberes_lag_5, lag(proporcion_comisiones_haberes, 6) over ventana_6 as proporcion_comisiones_haberes_lag_6, avg(proporcion_comisiones_haberes) over ventana_6 as proporcion_comisiones_haberes_media_6\n",
        ", regr_slope(proporcion_limite_comisiones, cliente_antiguedad) over ventana_6 as proporcion_limite_comisiones_slope_6, lag(proporcion_limite_comisiones, 1) over ventana_6 as proporcion_limite_comisiones_lag_1, lag(proporcion_limite_comisiones, 2) over ventana_6 as proporcion_limite_comisiones_lag_2, lag(proporcion_limite_comisiones, 3) over ventana_6 as proporcion_limite_comisiones_lag_3, lag(proporcion_limite_comisiones, 4) over ventana_6 as proporcion_limite_comisiones_lag_4, lag(proporcion_limite_comisiones, 5) over ventana_6 as proporcion_limite_comisiones_lag_5, lag(proporcion_limite_comisiones, 6) over ventana_6 as proporcion_limite_comisiones_lag_6, avg(proporcion_limite_comisiones) over ventana_6 as proporcion_limite_comisiones_media_6\n",
        ", regr_slope(proporcion_deuda_monto_cuentas, cliente_antiguedad) over ventana_6 as proporcion_deuda_monto_cuentas_slope_6, lag(proporcion_deuda_monto_cuentas, 1) over ventana_6 as proporcion_deuda_monto_cuentas_lag_1, lag(proporcion_deuda_monto_cuentas, 2) over ventana_6 as proporcion_deuda_monto_cuentas_lag_2, lag(proporcion_deuda_monto_cuentas, 3) over ventana_6 as proporcion_deuda_monto_cuentas_lag_3, lag(proporcion_deuda_monto_cuentas, 4) over ventana_6 as proporcion_deuda_monto_cuentas_lag_4, lag(proporcion_deuda_monto_cuentas, 5) over ventana_6 as proporcion_deuda_monto_cuentas_lag_5, lag(proporcion_deuda_monto_cuentas, 6) over ventana_6 as proporcion_deuda_monto_cuentas_lag_6, avg(proporcion_deuda_monto_cuentas) over ventana_6 as proporcion_deuda_monto_cuentas_media_6\n",
        "FROM competencia_02\n",
        "WHERE foto_mes NOT IN (201905,201910,202006)\n",
        "WINDOW ventana_6 AS (PARTITION BY numero_de_cliente ORDER BY foto_mes ROWS BETWEEN 5 PRECEDING AND CURRENT ROW)\n"
      ]
    },
    {
      "cell_type": "markdown",
      "metadata": {
        "id": "6qn6iBh74Nhd"
      },
      "source": [
        "## Escribo el archivo"
      ]
    },
    {
      "cell_type": "code",
      "execution_count": 57,
      "metadata": {
        "colab": {
          "base_uri": "https://localhost:8080/",
          "height": 120,
          "referenced_widgets": [
            "8224c6e47f004e55a399bd8ca092a69c",
            "f854fef2992a4324b69c52c787f50cb3",
            "e17c20e2918e4a6180a565565d0570f6"
          ]
        },
        "id": "hbNhyOzn4Nhd",
        "outputId": "6102d513-1c42-46d2-d7a3-cd764fe7113c"
      },
      "outputs": [
        {
          "name": "stdout",
          "output_type": "stream",
          "text": [
            "CPU times: total: 10min 30s\n",
            "Wall time: 3min 35s\n"
          ]
        },
        {
          "data": {
            "text/html": [
              "<div>\n",
              "<style scoped>\n",
              "    .dataframe tbody tr th:only-of-type {\n",
              "        vertical-align: middle;\n",
              "    }\n",
              "\n",
              "    .dataframe tbody tr th {\n",
              "        vertical-align: top;\n",
              "    }\n",
              "\n",
              "    .dataframe thead th {\n",
              "        text-align: right;\n",
              "    }\n",
              "</style>\n",
              "<table border=\"1\" class=\"dataframe\">\n",
              "  <thead>\n",
              "    <tr style=\"text-align: right;\">\n",
              "      <th></th>\n",
              "      <th>Success</th>\n",
              "    </tr>\n",
              "  </thead>\n",
              "  <tbody>\n",
              "  </tbody>\n",
              "</table>\n",
              "</div>"
            ],
            "text/plain": [
              "Empty DataFrame\n",
              "Columns: [Success]\n",
              "Index: []"
            ]
          },
          "execution_count": 57,
          "metadata": {},
          "output_type": "execute_result"
        }
      ],
      "source": [
        "%%time\n",
        "%%sql\n",
        "alter table resultado drop column Visa_Fvencimiento;\n",
        "alter table resultado drop column Master_Fvencimiento;\n",
        "alter table resultado drop column Visa_fechaalta;\n",
        "alter table resultado drop column Master_fechaalta;\n",
        "\n",
        "copy resultado to 'C:/databases/datasets/competencia_02_FEH.csv.gz' (FORMAT CSV, HEADER)"
      ]
    }
  ],
  "metadata": {
    "colab": {
      "provenance": []
    },
    "kernelspec": {
      "display_name": "Python 3",
      "name": "python3"
    },
    "language_info": {
      "codemirror_mode": {
        "name": "ipython",
        "version": 3
      },
      "file_extension": ".py",
      "mimetype": "text/x-python",
      "name": "python",
      "nbconvert_exporter": "python",
      "pygments_lexer": "ipython3",
      "version": "3.10.11"
    },
    "widgets": {
      "application/vnd.jupyter.widget-state+json": {
        "23ac0c9fb5f542c08d62259b19fd1b38": {
          "model_module": "@jupyter-widgets/controls",
          "model_module_version": "1.5.0",
          "model_name": "ProgressStyleModel",
          "state": {
            "_model_module": "@jupyter-widgets/controls",
            "_model_module_version": "1.5.0",
            "_model_name": "ProgressStyleModel",
            "_view_count": null,
            "_view_module": "@jupyter-widgets/base",
            "_view_module_version": "1.2.0",
            "_view_name": "StyleView",
            "bar_color": "black",
            "description_width": ""
          }
        },
        "4ac75dba850943ffa1e5a8d5a5981a96": {
          "model_module": "@jupyter-widgets/controls",
          "model_module_version": "1.5.0",
          "model_name": "FloatProgressModel",
          "state": {
            "_dom_classes": [],
            "_model_module": "@jupyter-widgets/controls",
            "_model_module_version": "1.5.0",
            "_model_name": "FloatProgressModel",
            "_view_count": null,
            "_view_module": "@jupyter-widgets/controls",
            "_view_module_version": "1.5.0",
            "_view_name": "ProgressView",
            "bar_style": "",
            "description": "",
            "description_tooltip": null,
            "layout": "IPY_MODEL_bbe59ed2f3544ab5bb0d5c0b1b7e9d94",
            "max": 100,
            "min": 0,
            "orientation": "horizontal",
            "style": "IPY_MODEL_23ac0c9fb5f542c08d62259b19fd1b38",
            "value": 100
          }
        },
        "8224c6e47f004e55a399bd8ca092a69c": {
          "model_module": "@jupyter-widgets/controls",
          "model_module_version": "1.5.0",
          "model_name": "FloatProgressModel",
          "state": {
            "_dom_classes": [],
            "_model_module": "@jupyter-widgets/controls",
            "_model_module_version": "1.5.0",
            "_model_name": "FloatProgressModel",
            "_view_count": null,
            "_view_module": "@jupyter-widgets/controls",
            "_view_module_version": "1.5.0",
            "_view_name": "ProgressView",
            "bar_style": "",
            "description": "",
            "description_tooltip": null,
            "layout": "IPY_MODEL_f854fef2992a4324b69c52c787f50cb3",
            "max": 100,
            "min": 0,
            "orientation": "horizontal",
            "style": "IPY_MODEL_e17c20e2918e4a6180a565565d0570f6",
            "value": 100
          }
        },
        "bbe59ed2f3544ab5bb0d5c0b1b7e9d94": {
          "model_module": "@jupyter-widgets/base",
          "model_module_version": "1.2.0",
          "model_name": "LayoutModel",
          "state": {
            "_model_module": "@jupyter-widgets/base",
            "_model_module_version": "1.2.0",
            "_model_name": "LayoutModel",
            "_view_count": null,
            "_view_module": "@jupyter-widgets/base",
            "_view_module_version": "1.2.0",
            "_view_name": "LayoutView",
            "align_content": null,
            "align_items": null,
            "align_self": null,
            "border": null,
            "bottom": null,
            "display": null,
            "flex": null,
            "flex_flow": null,
            "grid_area": null,
            "grid_auto_columns": null,
            "grid_auto_flow": null,
            "grid_auto_rows": null,
            "grid_column": null,
            "grid_gap": null,
            "grid_row": null,
            "grid_template_areas": null,
            "grid_template_columns": null,
            "grid_template_rows": null,
            "height": null,
            "justify_content": null,
            "justify_items": null,
            "left": null,
            "margin": null,
            "max_height": null,
            "max_width": null,
            "min_height": null,
            "min_width": null,
            "object_fit": null,
            "object_position": null,
            "order": null,
            "overflow": null,
            "overflow_x": null,
            "overflow_y": null,
            "padding": null,
            "right": null,
            "top": null,
            "visibility": null,
            "width": "auto"
          }
        },
        "c7dfc5d124d44af7a9cb18c7772252ee": {
          "model_module": "@jupyter-widgets/controls",
          "model_module_version": "1.5.0",
          "model_name": "ProgressStyleModel",
          "state": {
            "_model_module": "@jupyter-widgets/controls",
            "_model_module_version": "1.5.0",
            "_model_name": "ProgressStyleModel",
            "_view_count": null,
            "_view_module": "@jupyter-widgets/base",
            "_view_module_version": "1.2.0",
            "_view_name": "StyleView",
            "bar_color": "black",
            "description_width": ""
          }
        },
        "cc28f5135ee545aba790557c1aec4af4": {
          "model_module": "@jupyter-widgets/controls",
          "model_module_version": "1.5.0",
          "model_name": "FloatProgressModel",
          "state": {
            "_dom_classes": [],
            "_model_module": "@jupyter-widgets/controls",
            "_model_module_version": "1.5.0",
            "_model_name": "FloatProgressModel",
            "_view_count": null,
            "_view_module": "@jupyter-widgets/controls",
            "_view_module_version": "1.5.0",
            "_view_name": "ProgressView",
            "bar_style": "",
            "description": "",
            "description_tooltip": null,
            "layout": "IPY_MODEL_f46c5ac06c0749c0bb95ecb228138fd0",
            "max": 100,
            "min": 0,
            "orientation": "horizontal",
            "style": "IPY_MODEL_c7dfc5d124d44af7a9cb18c7772252ee",
            "value": 100
          }
        },
        "e17c20e2918e4a6180a565565d0570f6": {
          "model_module": "@jupyter-widgets/controls",
          "model_module_version": "1.5.0",
          "model_name": "ProgressStyleModel",
          "state": {
            "_model_module": "@jupyter-widgets/controls",
            "_model_module_version": "1.5.0",
            "_model_name": "ProgressStyleModel",
            "_view_count": null,
            "_view_module": "@jupyter-widgets/base",
            "_view_module_version": "1.2.0",
            "_view_name": "StyleView",
            "bar_color": "black",
            "description_width": ""
          }
        },
        "f46c5ac06c0749c0bb95ecb228138fd0": {
          "model_module": "@jupyter-widgets/base",
          "model_module_version": "1.2.0",
          "model_name": "LayoutModel",
          "state": {
            "_model_module": "@jupyter-widgets/base",
            "_model_module_version": "1.2.0",
            "_model_name": "LayoutModel",
            "_view_count": null,
            "_view_module": "@jupyter-widgets/base",
            "_view_module_version": "1.2.0",
            "_view_name": "LayoutView",
            "align_content": null,
            "align_items": null,
            "align_self": null,
            "border": null,
            "bottom": null,
            "display": null,
            "flex": null,
            "flex_flow": null,
            "grid_area": null,
            "grid_auto_columns": null,
            "grid_auto_flow": null,
            "grid_auto_rows": null,
            "grid_column": null,
            "grid_gap": null,
            "grid_row": null,
            "grid_template_areas": null,
            "grid_template_columns": null,
            "grid_template_rows": null,
            "height": null,
            "justify_content": null,
            "justify_items": null,
            "left": null,
            "margin": null,
            "max_height": null,
            "max_width": null,
            "min_height": null,
            "min_width": null,
            "object_fit": null,
            "object_position": null,
            "order": null,
            "overflow": null,
            "overflow_x": null,
            "overflow_y": null,
            "padding": null,
            "right": null,
            "top": null,
            "visibility": null,
            "width": "auto"
          }
        },
        "f854fef2992a4324b69c52c787f50cb3": {
          "model_module": "@jupyter-widgets/base",
          "model_module_version": "1.2.0",
          "model_name": "LayoutModel",
          "state": {
            "_model_module": "@jupyter-widgets/base",
            "_model_module_version": "1.2.0",
            "_model_name": "LayoutModel",
            "_view_count": null,
            "_view_module": "@jupyter-widgets/base",
            "_view_module_version": "1.2.0",
            "_view_name": "LayoutView",
            "align_content": null,
            "align_items": null,
            "align_self": null,
            "border": null,
            "bottom": null,
            "display": null,
            "flex": null,
            "flex_flow": null,
            "grid_area": null,
            "grid_auto_columns": null,
            "grid_auto_flow": null,
            "grid_auto_rows": null,
            "grid_column": null,
            "grid_gap": null,
            "grid_row": null,
            "grid_template_areas": null,
            "grid_template_columns": null,
            "grid_template_rows": null,
            "height": null,
            "justify_content": null,
            "justify_items": null,
            "left": null,
            "margin": null,
            "max_height": null,
            "max_width": null,
            "min_height": null,
            "min_width": null,
            "object_fit": null,
            "object_position": null,
            "order": null,
            "overflow": null,
            "overflow_x": null,
            "overflow_y": null,
            "padding": null,
            "right": null,
            "top": null,
            "visibility": null,
            "width": "auto"
          }
        }
      }
    }
  },
  "nbformat": 4,
  "nbformat_minor": 0
}
